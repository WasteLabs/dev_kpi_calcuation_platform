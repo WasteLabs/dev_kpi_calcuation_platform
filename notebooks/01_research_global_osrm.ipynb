{
 "cells": [
  {
   "cell_type": "markdown",
   "id": "7727da0e",
   "metadata": {},
   "source": [
    "# About\n",
    "* **Author**: Adil Rashitov (adil@wastelabs.co)\n",
    "* **Created at**: 07.09.2022"
   ]
  },
  {
   "cell_type": "code",
   "execution_count": null,
   "id": "0d4c7bdb",
   "metadata": {
    "code_folding": [
     0
    ]
   },
   "outputs": [],
   "source": [
    "# Imports / Configs / Global vars\n",
    "\n",
    "# Import of native python tools\n",
    "import os\n",
    "import json\n",
    "from functools import reduce\n",
    "\n",
    "# Import of base ML stack libs\n",
    "import numpy as np\n",
    "import sklearn as sc\n",
    "\n",
    "# Multiprocessing for Mac / Linux\n",
    "import platform\n",
    "platform.system()\n",
    "if platform.system() == 'Darwin':\n",
    "    from multiprocess import Pool\n",
    "else:\n",
    "    from multiprocessing import Pool\n",
    "\n",
    "# Logging configuraiton\n",
    "import logging\n",
    "logging.basicConfig(format='[ %(asctime)s ][ %(levelname)s ]: %(message)s', datefmt='%m/%d/%Y %I:%M:%S %p')\n",
    "logger = logging.getLogger()\n",
    "logger.setLevel(logging.INFO)\n",
    "\n",
    "\n",
    "# Ipython configs\n",
    "from IPython.core.display import display, HTML\n",
    "from IPython.core.interactiveshell import InteractiveShell\n",
    "display(HTML(\"<style>.container { width:100% !important; }</style>\"))\n",
    "InteractiveShell.ast_node_interactivity = 'all'\n",
    "\n",
    "# Pandas configs\n",
    "import pandas as pd\n",
    "pd.options.display.max_rows = 350\n",
    "pd.options.display.max_columns = 250\n",
    "\n",
    "# Jupyter configs\n",
    "%load_ext autoreload\n",
    "%autoreload 2\n",
    "%config Completer.use_jedi = False\n",
    "\n",
    "# GLOBAL VARS\n",
    "from pathlib import Path\n",
    "import sys\n",
    "PROJECT_DIR = os.getcwd().rsplit('/', 1)[0]\n",
    "SRC_DIR = PROJECT_DIR \n",
    "\n",
    "\n",
    "if SRC_DIR not in sys.path:\n",
    "    sys.path.append(SRC_DIR)\n",
    "\n",
    "if PROJECT_DIR not in sys.path:\n",
    "    sys.path.append(PROJECT_DIR)"
   ]
  },
  {
   "cell_type": "markdown",
   "id": "1fef11bd",
   "metadata": {},
   "source": [
    "# Main"
   ]
  },
  {
   "cell_type": "code",
   "execution_count": null,
   "id": "9bd2dc56",
   "metadata": {
    "code_folding": [
     3
    ]
   },
   "outputs": [],
   "source": [
    "\n",
    "body = {\n",
    "    \"task_id\": \"BusinessAdmin_e0245692-50b2-4b5b-947a-4803ca2b722a_20220906_235833\",\n",
    "    \"assigned_stops\": [\n",
    "        {\n",
    "            \"stop_id\": \"78250043525562469\",\n",
    "            \"route_id\": \"W01\",\n",
    "            \"route_sequence\": 2,\n",
    "            \"latitude\": 51.491754,\n",
    "            \"longitude\": -0.0796267,\n",
    "            \"duration_seconds\": 0,\n",
    "            \"open_time\": \"00:00:00\",\n",
    "            \"close_time\": \"23:59:59\"\n",
    "        },\n",
    "        {\n",
    "            \"stop_id\": \"306261\",\n",
    "            \"route_id\": \"W01\",\n",
    "            \"route_sequence\": 1,\n",
    "            \"latitude\": 51.5121,\n",
    "            \"longitude\": -0.1201,\n",
    "            \"duration_seconds\": 300,\n",
    "            \"open_time\": \"00:00:00\",\n",
    "            \"close_time\": \"23:59:59\"\n",
    "        },\n",
    "        {\n",
    "            \"stop_id\": \"78250043525562469\",\n",
    "            \"route_id\": \"W01\",\n",
    "            \"route_sequence\": 0,\n",
    "            \"latitude\": 51.491754,\n",
    "            \"longitude\": -0.0796267,\n",
    "            \"duration_seconds\": 0,\n",
    "            \"open_time\": \"00:00:00\",\n",
    "            \"close_time\": \"23:59:59\"\n",
    "        },\n",
    "    ],\n",
    "    \"assigned_routes\": [\n",
    "        {\n",
    "            \"route_id\": \"W01\",\n",
    "            \"vehicle_type\": \"Van\",\n",
    "            \"shift_start_time\": \"08:00:00\"\n",
    "        },\n",
    "    ]\n",
    "}\n",
    "\n"
   ]
  },
  {
   "cell_type": "code",
   "execution_count": null,
   "id": "76f32078",
   "metadata": {
    "code_folding": []
   },
   "outputs": [],
   "source": [
    "from typing import Literal\n",
    "from datetime import date\n",
    "from faker import Faker\n",
    "\n",
    "\n",
    "class RouteFaker(Faker):\n",
    "\n",
    "    def route_stops(\n",
    "            self,\n",
    "            route_id: str,\n",
    "            n_stops: int,\n",
    "            date: date,\n",
    "            pivot_lat: float = 51.5072,\n",
    "            pivot_lon: float = 0.1276,\n",
    "            radius: float = 0.1):\n",
    "        stops = []\n",
    "        for stop_id in range(n_stops):\n",
    "            stops.append({\n",
    "                \"latitude\": float(self.coordinate(pivot_lat, radius)),\n",
    "                \"longitude\": float(self.coordinate(pivot_lon, radius)),\n",
    "                \"duration_seconds\": int(faker.random_int(min=60, max=600)),\n",
    "                \"open_time\": f\"{date} 00:00:00\",\n",
    "                \"close_time\": f\"{date} 23:59:59\",\n",
    "                \"stop_id\": str(faker.random_number()),\n",
    "                \"route_sequence\": stop_id,\n",
    "                \"route_id\": route_id,\n",
    "            })\n",
    "        return stops\n",
    "\n",
    "    def factory_message_body(self):\n",
    "        _date = self.date_between_dates(date_start=date(2020, 1, 1), date_end=date(2022, 10, 5))\n",
    "        route_id_van = faker.aba()\n",
    "        route_id_bicycle = faker.aba()\n",
    "        task_id = f\"BusinessAdmin_{_date}-{route_id_van}-{route_id_bicycle}\"\n",
    "        n_stops_van = faker.random_int(min=7, max=25)\n",
    "        n_stops_bicycle = faker.random_int(min=7, max=25)\n",
    "\n",
    "        return {\n",
    "            \"task_id\": task_id,\n",
    "            \"assigned_stops\": (\n",
    "                faker.route_stops(route_id=route_id_van, n_stops=n_stops_van, date=_date) +\n",
    "                faker.route_stops(route_id=route_id_bicycle, n_stops=n_stops_bicycle, date=_date)\n",
    "            ),\n",
    "            \"assigned_routes\": [\n",
    "                {\n",
    "                    \"route_id\": route_id_van,\n",
    "                    \"vehicle_type\": \"Van\",\n",
    "                    \"shift_start_time\": f\"{_date} 08:00:00\"\n",
    "                },\n",
    "                {\n",
    "                    \"route_id\": route_id_bicycle,\n",
    "                    \"vehicle_type\": \"Bicycle\",\n",
    "                    \"shift_start_time\": f\"{_date} 08:00:00\"\n",
    "                },\n",
    "            ]            \n",
    "        }\n"
   ]
  },
  {
   "cell_type": "code",
   "execution_count": null,
   "id": "f6ce796b",
   "metadata": {},
   "outputs": [],
   "source": [
    "!rm -rf ../data/01_raw/fake_message_bodies/\n",
    "!mkdir -p ../data/01_raw/fake_message_bodies/"
   ]
  },
  {
   "cell_type": "code",
   "execution_count": null,
   "id": "04f937c8",
   "metadata": {},
   "outputs": [],
   "source": [
    "faker = RouteFaker()"
   ]
  },
  {
   "cell_type": "code",
   "execution_count": null,
   "id": "54283c0c",
   "metadata": {},
   "outputs": [],
   "source": [
    "faker.aba"
   ]
  },
  {
   "cell_type": "code",
   "execution_count": null,
   "id": "614baffb",
   "metadata": {},
   "outputs": [],
   "source": [
    "import json\n",
    "\n",
    "\n",
    "def export_json(file_id: int, body: dict):\n",
    "    with open(f'../data/01_raw/fake_message_bodies/{file_id}.json', 'w', encoding='utf-8') as f:\n",
    "        json.dump(body, f)\n",
    "\n",
    "\n",
    "for i in range(0, 200):\n",
    "    logging.info(f\"Start processing sample: {i}\")\n",
    "    body = faker.factory_message_body()\n",
    "    export_json(file_id=i, body=body)"
   ]
  },
  {
   "cell_type": "code",
   "execution_count": null,
   "id": "fc848603",
   "metadata": {},
   "outputs": [],
   "source": [
    "pd.DataFrame(body[\"assigned_routes\"])"
   ]
  },
  {
   "cell_type": "code",
   "execution_count": null,
   "id": "6650207e",
   "metadata": {},
   "outputs": [],
   "source": [
    "pd.DataFrame(body[\"assigned_stops\"])"
   ]
  }
 ],
 "metadata": {
  "kernelspec": {
   "display_name": "Python 3 (ipykernel)",
   "language": "python",
   "name": "python3"
  },
  "language_info": {
   "codemirror_mode": {
    "name": "ipython",
    "version": 3
   },
   "file_extension": ".py",
   "mimetype": "text/x-python",
   "name": "python",
   "nbconvert_exporter": "python",
   "pygments_lexer": "ipython3",
   "version": "3.10.4"
  },
  "varInspector": {
   "cols": {
    "lenName": 16,
    "lenType": 16,
    "lenVar": 40
   },
   "kernels_config": {
    "python": {
     "delete_cmd_postfix": "",
     "delete_cmd_prefix": "del ",
     "library": "var_list.py",
     "varRefreshCmd": "print(var_dic_list())"
    },
    "r": {
     "delete_cmd_postfix": ") ",
     "delete_cmd_prefix": "rm(",
     "library": "var_list.r",
     "varRefreshCmd": "cat(var_dic_list()) "
    }
   },
   "types_to_exclude": [
    "module",
    "function",
    "builtin_function_or_method",
    "instance",
    "_Feature"
   ],
   "window_display": false
  }
 },
 "nbformat": 4,
 "nbformat_minor": 5
}
