{
 "cells": [
  {
   "cell_type": "markdown",
   "id": "7727da0e",
   "metadata": {},
   "source": [
    "# About\n",
    "* **Author**: Adil Rashitov (adil@wastelabs.co)\n",
    "* **Created at**: 07.09.2022"
   ]
  },
  {
   "cell_type": "code",
   "execution_count": null,
   "id": "0d4c7bdb",
   "metadata": {
    "code_folding": [
     0
    ]
   },
   "outputs": [],
   "source": [
    "# Imports / Configs / Global vars\n",
    "\n",
    "# Import of native python tools\n",
    "import os\n",
    "import json\n",
    "from functools import reduce\n",
    "\n",
    "# Import of base ML stack libs\n",
    "import numpy as np\n",
    "import sklearn as sc\n",
    "\n",
    "# Logging configuraiton\n",
    "import logging\n",
    "logging.basicConfig(format='[ %(asctime)s ][ %(levelname)s ]: %(message)s', datefmt='%m/%d/%Y %I:%M:%S %p')\n",
    "logger = logging.getLogger()\n",
    "logger.setLevel(logging.INFO)\n",
    "\n",
    "\n",
    "# Ipython configs\n",
    "from IPython.core.display import display, HTML\n",
    "from IPython.core.interactiveshell import InteractiveShell\n",
    "display(HTML(\"<style>.container { width:100% !important; }</style>\"))\n",
    "InteractiveShell.ast_node_interactivity = 'all'\n",
    "\n",
    "# Pandas configs\n",
    "import pandas as pd\n",
    "pd.options.display.max_rows = 350\n",
    "pd.options.display.max_columns = 250\n",
    "\n",
    "# Jupyter configs\n",
    "%load_ext autoreload\n",
    "%autoreload 2\n",
    "%config Completer.use_jedi = False\n",
    "\n",
    "# GLOBAL VARS\n",
    "from pathlib import Path\n",
    "import sys\n",
    "PROJECT_DIR = os.getcwd().rsplit('/', 1)[0]\n",
    "SRC_DIR = PROJECT_DIR \n",
    "\n",
    "\n",
    "if SRC_DIR not in sys.path:\n",
    "    sys.path.append(SRC_DIR)\n",
    "\n",
    "if PROJECT_DIR not in sys.path:\n",
    "    sys.path.append(PROJECT_DIR)"
   ]
  },
  {
   "cell_type": "markdown",
   "id": "1fef11bd",
   "metadata": {},
   "source": [
    "# Main"
   ]
  },
  {
   "cell_type": "code",
   "execution_count": null,
   "id": "651b3b05",
   "metadata": {},
   "outputs": [],
   "source": [
    "SRC_S3_FPATH = \"s3://dev-data-temp/dev_kpi_calculation_platform/dev/01_raw/test_stops.xlsx\""
   ]
  },
  {
   "cell_type": "markdown",
   "id": "9be2c24c",
   "metadata": {},
   "source": [
    "## Dev"
   ]
  },
  {
   "cell_type": "markdown",
   "id": "a489d347",
   "metadata": {},
   "source": [
    "1. Read source file\n",
    "2. Append `upload_time` & `filename`\n",
    "3. Query data\n",
    "4. Export to S3"
   ]
  },
  {
   "cell_type": "code",
   "execution_count": null,
   "id": "9e6f121f",
   "metadata": {},
   "outputs": [],
   "source": [
    "from src.aws_lambda.kpi import Session\n",
    "\n",
    "\n",
    "session = Session(SRC_S3_FPATH)\n",
    "session.read_stops()\n",
    "session.process_stops()"
   ]
  },
  {
   "cell_type": "code",
   "execution_count": null,
   "id": "778d2083",
   "metadata": {},
   "outputs": [],
   "source": [
    "from datetime import datetime\n",
    "from typing import Literal\n",
    "\n",
    "import awswrangler as wr\n",
    "import boto3\n"
   ]
  },
  {
   "cell_type": "code",
   "execution_count": null,
   "id": "a6b8d376",
   "metadata": {},
   "outputs": [],
   "source": [
    "def export_stops(stops: pd.DataFrame) -> pd.DataFrame:\n",
    "    wr.s3.to_parquet(\n",
    "        df=session.stops.copy(),\n",
    "        boto3_session=boto3.Session(region_name=\"ap-southeast-1\"),\n",
    "        path=\"s3://dev-data-temp/dev_kpi_calculation_platform/dev/02_intermediate/stops/\",\n",
    "        index=False,\n",
    "        dataset=True,\n",
    "        sanitize_columns=True,\n",
    "        database=\"kpi_calculation_platform\",\n",
    "        table=\"dev_stops\",\n",
    "        partition_cols=[\"processing_id\"],\n",
    "        use_threads=True,\n",
    "        mode=\"overwrite\",\n",
    "    )"
   ]
  },
  {
   "cell_type": "code",
   "execution_count": null,
   "id": "adaac6d7",
   "metadata": {},
   "outputs": [],
   "source": []
  },
  {
   "cell_type": "code",
   "execution_count": null,
   "id": "ab9e2e0c",
   "metadata": {},
   "outputs": [],
   "source": []
  }
 ],
 "metadata": {
  "kernelspec": {
   "display_name": "Python 3 (ipykernel)",
   "language": "python",
   "name": "python3"
  },
  "language_info": {
   "codemirror_mode": {
    "name": "ipython",
    "version": 3
   },
   "file_extension": ".py",
   "mimetype": "text/x-python",
   "name": "python",
   "nbconvert_exporter": "python",
   "pygments_lexer": "ipython3",
   "version": "3.10.6"
  },
  "varInspector": {
   "cols": {
    "lenName": 16,
    "lenType": 16,
    "lenVar": 40
   },
   "kernels_config": {
    "python": {
     "delete_cmd_postfix": "",
     "delete_cmd_prefix": "del ",
     "library": "var_list.py",
     "varRefreshCmd": "print(var_dic_list())"
    },
    "r": {
     "delete_cmd_postfix": ") ",
     "delete_cmd_prefix": "rm(",
     "library": "var_list.r",
     "varRefreshCmd": "cat(var_dic_list()) "
    }
   },
   "types_to_exclude": [
    "module",
    "function",
    "builtin_function_or_method",
    "instance",
    "_Feature"
   ],
   "window_display": false
  }
 },
 "nbformat": 4,
 "nbformat_minor": 5
}
