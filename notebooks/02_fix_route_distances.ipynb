{
 "cells": [
  {
   "cell_type": "markdown",
   "id": "7727da0e",
   "metadata": {},
   "source": [
    "# About\n",
    "* **Author**: Adil Rashitov (adil@wastelabs.co)\n",
    "* **Created at**: 07.09.2022"
   ]
  },
  {
   "cell_type": "code",
   "execution_count": null,
   "id": "0d4c7bdb",
   "metadata": {
    "code_folding": [
     0
    ]
   },
   "outputs": [],
   "source": [
    "# Imports / Configs / Global vars\n",
    "\n",
    "# Import of native python tools\n",
    "import os\n",
    "import json\n",
    "from functools import reduce\n",
    "\n",
    "# Import of base ML stack libs\n",
    "import numpy as np\n",
    "import sklearn as sc\n",
    "\n",
    "# Logging configuraiton\n",
    "import logging\n",
    "logging.basicConfig(format='[ %(asctime)s ][ %(levelname)s ]: %(message)s', datefmt='%m/%d/%Y %I:%M:%S %p')\n",
    "logger = logging.getLogger()\n",
    "logger.setLevel(logging.INFO)\n",
    "\n",
    "\n",
    "# Ipython configs\n",
    "from IPython.core.display import display, HTML\n",
    "from IPython.core.interactiveshell import InteractiveShell\n",
    "display(HTML(\"<style>.container { width:100% !important; }</style>\"))\n",
    "InteractiveShell.ast_node_interactivity = 'all'\n",
    "\n",
    "# Pandas configs\n",
    "import pandas as pd\n",
    "pd.options.display.max_rows = 350\n",
    "pd.options.display.max_columns = 250\n",
    "\n",
    "# Jupyter configs\n",
    "%load_ext autoreload\n",
    "%autoreload 2\n",
    "%config Completer.use_jedi = False\n",
    "\n",
    "# GLOBAL VARS\n",
    "from pathlib import Path\n",
    "import sys\n",
    "PROJECT_DIR = os.getcwd().rsplit('/', 1)[0]\n",
    "SRC_DIR = PROJECT_DIR \n",
    "\n",
    "\n",
    "if SRC_DIR not in sys.path:\n",
    "    sys.path.append(SRC_DIR)\n",
    "\n",
    "if PROJECT_DIR not in sys.path:\n",
    "    sys.path.append(PROJECT_DIR)"
   ]
  },
  {
   "cell_type": "markdown",
   "id": "1fef11bd",
   "metadata": {},
   "source": [
    "# Main"
   ]
  },
  {
   "cell_type": "code",
   "execution_count": null,
   "id": "651b3b05",
   "metadata": {},
   "outputs": [],
   "source": [
    "SRC_S3_FPATH = \"s3://dev-data-temp/dev_kpi_calculation_platform/dev/01_raw/test_stops.xlsx\""
   ]
  },
  {
   "cell_type": "markdown",
   "id": "9be2c24c",
   "metadata": {},
   "source": [
    "## Dev"
   ]
  },
  {
   "cell_type": "markdown",
   "id": "a489d347",
   "metadata": {},
   "source": [
    "1. Read source file\n",
    "2. Append `upload_time` & `filename`\n",
    "3. Query data\n",
    "4. Export to S3"
   ]
  },
  {
   "cell_type": "code",
   "execution_count": null,
   "id": "ab9e2e0c",
   "metadata": {},
   "outputs": [],
   "source": [
    "from src.osrm.drivers.route import RouteQueryDriver\n",
    "\n",
    "\n",
    "def london_coordinates() -> pd.DataFrame:\n",
    "    return pd.DataFrame([\n",
    "        {'latitude': 51.48288180847117, 'longitude': -0.0588430532506331},\n",
    "        {'latitude': 51.47482413883279, 'longitude': -0.0291032786878821},\n",
    "        {'latitude': 51.4718502496285, 'longitude': -0.0320751884543755},\n",
    "        {'latitude': 51.47088782010107, 'longitude': -0.0345428331590431},\n",
    "    ])\n",
    "\n",
    "\n",
    "def host() -> str:\n",
    "    return \"http://router.project-osrm.org/\"\n",
    "\n",
    "query_driver = RouteQueryDriver(host=host())"
   ]
  },
  {
   "cell_type": "code",
   "execution_count": null,
   "id": "658c30e6",
   "metadata": {},
   "outputs": [],
   "source": [
    "query = query_driver.preprocess_query(london_coordinates())\n",
    "result = query_driver.query(query)"
   ]
  },
  {
   "cell_type": "code",
   "execution_count": null,
   "id": "cac72a96",
   "metadata": {},
   "outputs": [],
   "source": [
    "from src.osrm.parsers.route import RouteParser\n",
    "\n",
    "\n",
    "route_parser = RouteParser(content=result)"
   ]
  },
  {
   "cell_type": "code",
   "execution_count": null,
   "id": "4e869f82",
   "metadata": {},
   "outputs": [],
   "source": [
    "len(route_parser.content[\"routes\"][0][\"legs\"])\n"
   ]
  },
  {
   "cell_type": "code",
   "execution_count": null,
   "id": "55c7fefd",
   "metadata": {},
   "outputs": [],
   "source": [
    "route_parser.content[\"routes\"][0][\"legs\"][0]['distance']"
   ]
  },
  {
   "cell_type": "code",
   "execution_count": null,
   "id": "a56badb1",
   "metadata": {},
   "outputs": [],
   "source": [
    "round(1 / 3600, 5)"
   ]
  },
  {
   "cell_type": "code",
   "execution_count": null,
   "id": "25661198",
   "metadata": {},
   "outputs": [],
   "source": [
    "x = np.array([0, 1, 1, 1]) \n",
    "(x / 3600).round(6)"
   ]
  },
  {
   "cell_type": "code",
   "execution_count": null,
   "id": "9074773d",
   "metadata": {},
   "outputs": [],
   "source": []
  }
 ],
 "metadata": {
  "kernelspec": {
   "display_name": "Python 3 (ipykernel)",
   "language": "python",
   "name": "python3"
  },
  "language_info": {
   "codemirror_mode": {
    "name": "ipython",
    "version": 3
   },
   "file_extension": ".py",
   "mimetype": "text/x-python",
   "name": "python",
   "nbconvert_exporter": "python",
   "pygments_lexer": "ipython3",
   "version": "3.10.6"
  },
  "varInspector": {
   "cols": {
    "lenName": 16,
    "lenType": 16,
    "lenVar": 40
   },
   "kernels_config": {
    "python": {
     "delete_cmd_postfix": "",
     "delete_cmd_prefix": "del ",
     "library": "var_list.py",
     "varRefreshCmd": "print(var_dic_list())"
    },
    "r": {
     "delete_cmd_postfix": ") ",
     "delete_cmd_prefix": "rm(",
     "library": "var_list.r",
     "varRefreshCmd": "cat(var_dic_list()) "
    }
   },
   "types_to_exclude": [
    "module",
    "function",
    "builtin_function_or_method",
    "instance",
    "_Feature"
   ],
   "window_display": false
  }
 },
 "nbformat": 4,
 "nbformat_minor": 5
}
